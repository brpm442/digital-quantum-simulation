{
 "cells": [
  {
   "cell_type": "markdown",
   "id": "d4128a5a-c253-4ae9-aa05-55dfa134788d",
   "metadata": {},
   "source": [
    "# Generic State Preparation\n",
    "## Examples of application of methods"
   ]
  },
  {
   "cell_type": "markdown",
   "id": "48cd2d30-3ff2-4ad1-a14e-86283f0b2026",
   "metadata": {},
   "source": [
    "#### Importing relevant functions, assuming 'scripts' folder is in the same directory as the folder in which this notebook finds itself"
   ]
  },
  {
   "cell_type": "code",
   "execution_count": 1,
   "id": "2c1f22ca-abbc-481c-889a-54cacb237ceb",
   "metadata": {},
   "outputs": [],
   "source": [
    "import sys, pathlib\n",
    "from pathlib import Path\n",
    "parent_path = Path(sys.path[0]).parent.absolute()\n",
    "scripts_path = str(parent_path)+'\\scripts'\n",
    "\n",
    "sys.path.insert(1, scripts_path)\n",
    "from generic_state_prep import *"
   ]
  },
  {
   "cell_type": "markdown",
   "id": "3d6be051-d4ee-44c1-8e48-adc4fd5b44c0",
   "metadata": {},
   "source": [
    "#### Single-qubit state preparation"
   ]
  },
  {
   "cell_type": "code",
   "execution_count": 6,
   "id": "09cc812c-e671-46fb-afd2-5b917cbc60ab",
   "metadata": {},
   "outputs": [
    {
     "name": "stdout",
     "output_type": "stream",
     "text": [
      "Expected state:  [-0.58362849+0.27577794j -0.05771608-0.76157282j]\n",
      "Obtained state:  [-0.36581295+0.53184263j -0.43282768-0.629273j  ]\n",
      "Fidelity relative to target state:  1.0\n",
      "[Depth, CNOT count]:  [1, 0]\n"
     ]
    },
    {
     "data": {
      "image/png": "[encoded data removed]",
      "text/plain": [
       "<Figure size 269.064x117.056 with 1 Axes>"
      ]
     },
     "execution_count": 6,
     "metadata": {},
     "output_type": "execute_result"
    }
   ],
   "source": [
    "# Generating a random single-qubit state\n",
    "state_1Q = random_state_generator(1, seed=None)\n",
    "print('Expected state: ', state_1Q)\n",
    "\n",
    "# Quantum circuit that prepares single-qubit state\n",
    "qc_1Q = single_qubit_state_preparation(state_1Q, params_out=False)\n",
    "\n",
    "# Statevector corresponding to output of quantum circuit\n",
    "# There may be a global phase difference with respect to state_1Q\n",
    "qc_1Q_output = statevector_output_qcircuit(qc_1Q, gauge=False)\n",
    "print('Obtained state: ', qc_1Q_output)\n",
    "\n",
    "# Sanity check: Fidelity relative to expected state\n",
    "print('Fidelity relative to target state: ', fidelity(state_1Q, qc_1Q_output))\n",
    "\n",
    "# Circuit depth, CNOT count of circuit using Qiskit transpiler in maximum optimization mode and (U3, CX) basis\n",
    "transpiled_metrics, transpiled_circuit = depth_and_CNOT_count_qcircuit(qc_1Q, output_circuit = True, ref_gates=['u3', 'cx'], op_level=3)\n",
    "print('[Depth, CNOT count]: ', transpiled_metrics)\n",
    "\n",
    "# Drawing quantum circuit\n",
    "transpiled_circuit.draw('mpl')"
   ]
  },
  {
   "cell_type": "markdown",
   "id": "96ed7ba2-c557-49a4-b8e8-cc2e02143c11",
   "metadata": {},
   "source": [
    "#### Shende-Bullock-Markov method\n",
    "Generic state preparation method introduced in Sec. 4 (Theorem 9) of [\"Synthesis of Quantum Logic Circuits\"](https://arxiv.org/abs/quant-ph/0406176), V. V. Shende, S. S. Bullock and I. L. Markov."
   ]
  },
  {
   "cell_type": "code",
   "execution_count": 21,
   "id": "b7f2a7b8-8831-49d4-ab54-e05edcfb8bab",
   "metadata": {},
   "outputs": [
    {
     "name": "stdout",
     "output_type": "stream",
     "text": [
      "Fidelity relative to target state:  1.0\n",
      "[Depth, CNOT count]:  [229, 114]\n"
     ]
    }
   ],
   "source": [
    "# Number of qubits\n",
    "n_SBM = 6\n",
    "\n",
    "# Generating a random n-qubit state\n",
    "psi_SBM = random_state_generator(n_SBM, seed=None) \n",
    "# print('Expected state: ', psi_SBM)\n",
    "\n",
    "# Quantum circuit that prepares psi_SBM via Shende-Bullock-Markov method\n",
    "qc_SBM = Shende_Bullock_Markov_preparation(psi_SBM, n_SBM)\n",
    "\n",
    "# Statevector corresponding to output of quantum circuit\n",
    "# There may be a global phase difference with respect to psi_SBM\n",
    "qc_SBM_output = statevector_output_qcircuit(qc_SBM, gauge=False)\n",
    "# print('Obtained state: ', qc_SBM_output)\n",
    "\n",
    "# Sanity check: Fidelity relative to expected state\n",
    "print('Fidelity relative to target state: ', fidelity(psi_SBM, qc_SBM_output))\n",
    "\n",
    "# Circuit depth, CNOT count of circuit using Qiskit transpiler in maximum optimization mode and (U3, CX) basis\n",
    "transpiled_metrics, transpiled_circuit = depth_and_CNOT_count_qcircuit(qc_SBM, output_circuit = True, ref_gates=['u3', 'cx'], op_level=3)\n",
    "print('[Depth, CNOT count]: ', transpiled_metrics)\n",
    "\n",
    "# # Drawing quantum circuit\n",
    "# transpiled_circuit.draw('mpl')"
   ]
  },
  {
   "cell_type": "markdown",
   "id": "b7a3e508-078a-4299-98db-013df4d95fcd",
   "metadata": {},
   "source": [
    "#### Plesch-Brukner method\n",
    "Generic state preparation method introduced in M. Plesch and C. Brukner, [Phys. Rev. A 83, 032302 (2011)](https://journals.aps.org/pra/abstract/10.1103/PhysRevA.83.032302). \n",
    "\n",
    "For a pedagogical description, see Sec. IX of B. Murta, P. M. Q. Cruz and J. Rossier, [Phys. Rev. Research 5, 013190 (2023)](https://journals.aps.org/prresearch/abstract/10.1103/PhysRevResearch.5.013190)."
   ]
  },
  {
   "cell_type": "code",
   "execution_count": 40,
   "id": "6a0b7585-d5ca-4d42-804f-a7b66487d304",
   "metadata": {},
   "outputs": [
    {
     "name": "stdout",
     "output_type": "stream",
     "text": [
      "Fidelity relative to target state:  1.0000000000000004\n",
      "[Depth, CNOT count]:  [49, 46]\n"
     ]
    }
   ],
   "source": [
    "# Number of qubits\n",
    "n_PB = 6\n",
    "\n",
    "# Generating a random n-qubit state\n",
    "psi_PB = random_state_generator(n_PB, seed=None) \n",
    "# print('Expected state: ', psi_PB)\n",
    "\n",
    "# Quantum circuit that prepares psi_SBM via Shende-Bullock-Markov method\n",
    "qc_PB = Plesch_Brukner_preparation(psi_PB, n_PB, all_parts=False)\n",
    "\n",
    "# Statevector corresponding to output of quantum circuit\n",
    "# There may be a global phase difference with respect to psi_PB\n",
    "qc_PB_output = statevector_output_qcircuit(qc_PB, gauge=False)\n",
    "# print('Obtained state: ', qc_PB_output)\n",
    "\n",
    "# Sanity check: Fidelity relative to expected state\n",
    "print('Fidelity relative to target state: ', fidelity(psi_PB, qc_PB_output))\n",
    "\n",
    "# Circuit depth, CNOT count of circuit using Qiskit transpiler in maximum optimization mode and (U3, CX) basis\n",
    "transpiled_metrics, transpiled_circuit = depth_and_CNOT_count_qcircuit(qc_PB, output_circuit = True, ref_gates=['u3', 'cx'], op_level=3)\n",
    "print('[Depth, CNOT count]: ', transpiled_metrics)\n",
    "\n",
    "# Drawing quantum circuit\n",
    "# transpiled_circuit.draw('mpl')"
   ]
  },
  {
   "cell_type": "markdown",
   "id": "a56e9ccb-a96a-4770-bcc1-4dd617138502",
   "metadata": {},
   "source": [
    "#### Matrix product states (MPS) with open boundary conditions\n",
    "\n",
    "Generic deterministic method introduced in C. Schoen, E. Solano, F. Verstraete, J. I. Cirac, and M. M. Wolf, [Phys. Rev. Lett. 95, 110503 (2005)](https://journals.aps.org/prl/abstract/10.1103/PhysRevLett.95.110503).\n",
    "\n",
    "For a description of the method for gate-based quantum computers, see, e.g., S.-J. Ran, [Phys. Rev. A 101, 032310 (2020)](https://journals.aps.org/pra/abstract/10.1103/PhysRevA.101.032310) or Sec. IV and Appendix C of B. Murta, P. M. Q. Cruz and J. Rossier, [Phys. Rev. Research 5, 013190 (2023)](https://journals.aps.org/prresearch/abstract/10.1103/PhysRevResearch.5.013190)."
   ]
  },
  {
   "cell_type": "code",
   "execution_count": 45,
   "id": "b128c215-db13-4d3e-99cd-2d01755274e4",
   "metadata": {},
   "outputs": [
    {
     "name": "stdout",
     "output_type": "stream",
     "text": [
      "Fidelity relative to target state:  1.0\n",
      "[Depth, CNOT count]:  [940, 497]\n"
     ]
    }
   ],
   "source": [
    "# Number of sites of MPS\n",
    "n_MPS_OBC = 6\n",
    "\n",
    "# (Maximum) bond dimension of MPS\n",
    "D_OBC = 3\n",
    "\n",
    "# Dimension of local Hilbert space\n",
    "# Must be a power of 2, as physical index is expected to be encoded in terms of qubits\n",
    "d_OBC = 4\n",
    "\n",
    "# Generating random MPS\n",
    "MPS_OBC = random_MPS_generator_OBC(n_MPS_OBC, d_OBC, D_OBC)\n",
    "\n",
    "# Contracting MPS to obtain corresponding statevector\n",
    "psi_MPS_OBC = MPS_full_contraction(MPS_OBC)\n",
    "psi_MPS_OBC = 1/np.linalg.norm(psi_MPS_OBC)*psi_MPS_OBC\n",
    "# print('Expected state: ', psi_MPS_OBC)\n",
    "\n",
    "# Quantum circuit that prepares psi_MPS_OBC\n",
    "qc_MPS_OBC = MPS_preparation_quantum_circuit_OBC(MPS_OBC)\n",
    "\n",
    "# Statevector corresponding to output of quantum circuit\n",
    "qc_MPS_OBC_output = statevector_output_qcircuit(qc_MPS_OBC, gauge=False)\n",
    "# print('Obtained state: ', qc_MPS_OBC_output)\n",
    "\n",
    "# Sanity check: Fidelity relative to expected state\n",
    "print('Fidelity relative to target state: ', fidelity(psi_MPS_OBC, qc_MPS_OBC_output))\n",
    "\n",
    "# Circuit depth, CNOT count of circuit using Qiskit transpiler in maximum optimization mode and (U3, CX) basis\n",
    "transpiled_metrics, transpiled_circuit = depth_and_CNOT_count_qcircuit(qc_MPS_OBC, output_circuit = True, ref_gates=['u3', 'cx'], op_level=3)\n",
    "print('[Depth, CNOT count]: ', transpiled_metrics)\n",
    "\n",
    "# Drawing quantum circuit\n",
    "# transpiled_circuit.draw('mpl')"
   ]
  },
  {
   "cell_type": "markdown",
   "id": "8766123b-c99f-44dd-9294-cc3f941d68e5",
   "metadata": {},
   "source": [
    "#### Matrix product states (MPS) with periodic boundary conditions\n",
    "\n",
    "Probabilistic scheme that results from adaptation of OBC method introduced in C. Schoen, E. Solano, F. Verstraete, J. I. Cirac, and M. M. Wolf, [Phys. Rev. Lett. 95, 110503 (2005)](https://journals.aps.org/prl/abstract/10.1103/PhysRevLett.95.110503). Circuit has at least one ancillary qubit (the most significant qubit), the measurement of which in the computational basis must yield $|0\\rangle$ for the preparation to be successful.\n",
    "\n",
    "For further details, see Sec. IV and Appendix C of B. Murta, P. M. Q. Cruz and J. Rossier, [Phys. Rev. Research 5, 013190 (2023)](https://journals.aps.org/prresearch/abstract/10.1103/PhysRevResearch.5.013190)."
   ]
  },
  {
   "cell_type": "code",
   "execution_count": 50,
   "id": "e5bf11f4-65f5-4d45-9c48-a5a5f471f207",
   "metadata": {},
   "outputs": [
    {
     "name": "stdout",
     "output_type": "stream",
     "text": [
      "Success probability:  0.12281609487529448\n",
      "Fidelity relative to target state:  1.0\n",
      "[Depth, CNOT count]:  [1844, 965]\n"
     ]
    }
   ],
   "source": [
    "# Number of sites of MPS\n",
    "n_MPS_PBC = 6\n",
    "\n",
    "# (Maximum) bond dimension of MPS\n",
    "D_PBC = 4\n",
    "\n",
    "# Dimension of local Hilbert space\n",
    "# Must be a power of 2, as physical index is expected to be encoded in terms of qubits\n",
    "d_PBC = 2\n",
    "\n",
    "# Generating random MPS\n",
    "# Each rank-3 local tensor is left-normalized and translational invariance is not assumed,\n",
    "# i.e., local tensors at different sites may be different\n",
    "MPS_PBC = random_MPS_generator_PBC(n_MPS_PBC, d_PBC, D_PBC, which = 'left', trans_invariant = False)\n",
    "\n",
    "# Contracting MPS to obtain corresponding statevector\n",
    "psi_MPS_PBC = MPS_full_contraction(MPS_PBC)\n",
    "psi_MPS_PBC = 1/np.linalg.norm(psi_MPS_PBC)*psi_MPS_PBC\n",
    "# print('Expected state: ', psi_MPS_PBC)\n",
    "\n",
    "# Quantum circuit that prepares psi_MPS_OBC\n",
    "qc_MPS_PBC = MPS_preparation_quantum_circuit_PBC(MPS_PBC)\n",
    "\n",
    "# Statevector corresponding to output of quantum circuit\n",
    "# Selection of first d_PBC**n_MPS_PBC entries amounts to successful measurement of ancilla in |0)\n",
    "qc_MPS_PBC_output = statevector_output_qcircuit(qc_MPS_PBC, gauge=False)[:d_PBC**n_MPS_PBC]\n",
    "\n",
    "# Success probability of non-deterministic preparation scheme\n",
    "success_probability = np.linalg.norm(qc_MPS_PBC_output)**2\n",
    "print('Success probability: ', success_probability)\n",
    "qc_MPS_PBC_output = 1/np.linalg.norm(qc_MPS_PBC_output)*qc_MPS_PBC_output\n",
    "# print('Obtained state: ', qc_MPS_PBC_output)\n",
    "\n",
    "# Sanity check: Fidelity relative to expected state\n",
    "print('Fidelity relative to target state: ', fidelity(psi_MPS_PBC, qc_MPS_PBC_output))\n",
    "\n",
    "# Circuit depth, CNOT count of circuit using Qiskit transpiler in maximum optimization mode and (U3, CX) basis\n",
    "transpiled_metrics, transpiled_circuit = depth_and_CNOT_count_qcircuit(qc_MPS_PBC, output_circuit = True, ref_gates=['u3', 'cx'], op_level=3)\n",
    "print('[Depth, CNOT count]: ', transpiled_metrics)"
   ]
  },
  {
   "cell_type": "code",
   "execution_count": null,
   "id": "d262b2aa-3164-4c8b-83c4-e00e1a012039",
   "metadata": {},
   "outputs": [],
   "source": []
  },
  {
   "cell_type": "code",
   "execution_count": null,
   "id": "ec86bbe6-e37b-4011-b864-fd3f1f7d8b4b",
   "metadata": {},
   "outputs": [],
   "source": []
  },
  {
   "cell_type": "code",
   "execution_count": null,
   "id": "448368b2-0f91-42ec-bfd9-ad0ff2e09c42",
   "metadata": {},
   "outputs": [],
   "source": []
  }
 ],
 "metadata": {
  "kernelspec": {
   "display_name": "Python 3 (ipykernel)",
   "language": "python",
   "name": "python3"
  },
  "language_info": {
   "codemirror_mode": {
    "name": "ipython",
    "version": 3
   },
   "file_extension": ".py",
   "mimetype": "text/x-python",
   "name": "python",
   "nbconvert_exporter": "python",
   "pygments_lexer": "ipython3",
   "version": "3.9.18"
  }
 },
 "nbformat": 4,
 "nbformat_minor": 5
}
